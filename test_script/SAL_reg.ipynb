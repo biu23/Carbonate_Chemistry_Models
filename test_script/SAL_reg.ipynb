{
 "cells": [
  {
   "cell_type": "markdown",
   "metadata": {},
   "source": [
    "TODO\n",
    "\n",
    "Year:1990-2020\n",
    "depth:0\n",
    "Region: 14 (P1,P2....)\n",
    "\n",
    "1. GLODAP salinity\n",
    "\n",
    "2. Model salinity\n",
    "\n",
    "3. Plot DIC vs. SAL / TA vs. SAL, separate region"
   ]
  },
  {
   "cell_type": "code",
   "execution_count": null,
   "metadata": {},
   "outputs": [],
   "source": [
    "import numpy as np\n",
    "from cmocean import cm\n",
    "import cartopy as cp\n",
    "import cartopy.crs as ccrs\n",
    "import netCDF4 as nc\n",
    "import matplotlib.pyplot as plt\n",
    "import xarray as xr\n",
    "import sys\n",
    "sys.path.append('/gpfs/home/mep22dku/scratch/SOZONE')\n",
    "#list of models\n",
    "sys.path.append('/gpfs/home/mep22dku/scratch/SOZONE/UTILS')\n",
    "import lom\n",
    "import utils as ut\n",
    "\n",
    "%matplotlib inline\n",
    "import warnings\n",
    "from datetime import datetime\n",
    "warnings.filterwarnings('ignore')\n",
    "import cartopy.feature as cfeature\n",
    "from importlib import reload\n",
    "import matplotlib.path as mpath\n",
    "import glob\n",
    "import pickle\n",
    "import pandas as pd\n",
    "import seawater\n",
    "import time\n",
    "plt.rcParams.update({'font.size': 12})\n",
    "font = {'family' : 'monospace',\n",
    "'weight' : 'normal',\n",
    "'size'   : 12}\n",
    "\n",
    "plt.rc('font', **font)"
   ]
  },
  {
   "cell_type": "markdown",
   "metadata": {},
   "source": [
    "    - Region"
   ]
  },
  {
   "cell_type": "code",
   "execution_count": null,
   "metadata": {},
   "outputs": [],
   "source": [
    "regs = ['ARCTIC', 'P1', 'P2', 'P3', 'P4', 'P5', 'A1', 'A2', 'A3', 'A4', 'A5', 'I3', 'I4', 'I5']\n",
    "\n",
    "regdict = {'ARCTIC' : {'number' : 0.5},\n",
    "           'P1' : {'number': 1.0},\n",
    "          'P2' : {'number': 1.2},\n",
    "           'P3' : {'number': 1.4},\n",
    "           'P4' : {'number': 1.6},\n",
    "           'P5' : {'number': 1.8},\n",
    "            'A1' : {'number': 2.4},\n",
    "          'A2' : {'number': 2.6},\n",
    "           'A3' : {'number': 2.8},\n",
    "           'A4' : {'number': 3},\n",
    "           'A5' : {'number': 3.2},\n",
    "           'I3' : {'number': 3.6},\n",
    "           'I4' : {'number': 3.8},\n",
    "           'I5' : {'number': 4},\n",
    "           \n",
    "          }\n",
    "\n",
    "tics = []\n",
    "tcm = 'Spectral'\n",
    "\n",
    "\n",
    "tmask = nc.Dataset('/gpfs/data/greenocean/software/resources/breakdown/clq_basin_masks_ORCA.nc')\n",
    "\n",
    "maskno = np.zeros([149,182])\n",
    "for i in range(0, len(regs)):\n",
    "    maskno[tmask[regs[i]][:] == 1] = regdict[regs[i]]['number']\n",
    "    tics.append(regdict[regs[i]]['number'])\n",
    "maskno[maskno == 0] = np.nan\n",
    "\n",
    "w = plt.pcolor(maskno, cmap = tcm, vmin = 0.5, vmax = 4)\n",
    "cbar = plt.colorbar(w, ticks=tics)\n",
    "t = cbar.ax.set_yticklabels(['ARCTIC', 'P1', 'P2', 'P3', 'P4', 'P5', 'A1', 'A2', 'A3', 'A4', 'A5', 'I3', 'I4', 'I5'], fontsize = 9)\n",
    "plt.suptitle('ocean regions, subdivided')\n",
    "\n",
    "fact = 0.2\n",
    "fig = plt.figure(figsize=(30*fact,15*fact))\n",
    "import matplotlib\n",
    "cmap = matplotlib.cm.get_cmap('Spectral')\n",
    "norm = matplotlib.colors.Normalize(vmin=0.5, vmax=4)\n",
    "for i in range(0,len(regs)):\n",
    "    rgba = cmap(norm(regdict[regs[i]]['number']))\n",
    "    plt.plot(regdict[regs[i]]['number'], 1, marker = 'o', color = rgba, label = regs[i])\n",
    "    regdict[regs[i]]['colour'] = rgba\n",
    "plt.legend(ncol = 5, fontsize = 10)\n",
    "plt.suptitle('colours assigned')\n"
   ]
  },
  {
   "cell_type": "code",
   "execution_count": null,
   "metadata": {},
   "outputs": [],
   "source": [
    "import matplotlib\n",
    "cmap = matplotlib.cm.get_cmap('Spectral')\n",
    "norm = matplotlib.colors.Normalize(vmin=0.5, vmax=4)"
   ]
  },
  {
   "cell_type": "markdown",
   "metadata": {},
   "source": [
    "# GLODAP"
   ]
  },
  {
   "cell_type": "code",
   "execution_count": null,
   "metadata": {},
   "outputs": [],
   "source": [
    "df = pd.read_csv('/gpfs/home/mep22dku/scratch/SOZONE/evalOutput/datasets/GLODAPv2.2022_GLOBAL_valid_DICTA_umolL_STITCHED.csv')\n",
    "df = df[(df.YR > 1989) & (df.YR < 2021)]\n",
    "df = df[df.PRES <= 10]\n",
    "df"
   ]
  },
  {
   "cell_type": "code",
   "execution_count": null,
   "metadata": {},
   "outputs": [],
   "source": [
    "tDIC = np.array(df['DIC'][:])\n",
    "tALK = np.array(df['ALK'][:])\n",
    "tSAL = np.array(df['SAL'][:])\n",
    "\n",
    "tYEAR = np.array(df['YR'])\n",
    "tY = np.array(df['Y'])\n",
    "tX = np.array(df['X'])\n",
    "\n",
    "tREG_new = np.array(tX)\n",
    "\n",
    "for j in range(len(tY)):\n",
    "    y = tY[j].astype(int)\n",
    "    x = tX[j].astype(int)\n",
    "    tREG_new[j] = maskno[y, x]\n",
    "\n",
    "# print(tREG_new)\n",
    "# len(tREG_new)\n"
   ]
  },
  {
   "cell_type": "code",
   "execution_count": null,
   "metadata": {},
   "outputs": [],
   "source": [
    "td = {}\n",
    "td = {'DIC':  tDIC, 'TA':tALK, 'SAL': tSAL ,'REG': tREG_new, 'REG_Group': tREG_new,}\n",
    "tdat = pd.DataFrame(data=td)\n",
    "\n",
    "tdat_fil = tdat[(tdat.DIC>-999) & (tdat.TA>-999) & (tdat.DIC != 0) & (tdat.TA != 0)]\n",
    "\n",
    "tdat_fil_mean = tdat_fil.groupby(by=[\"REG_Group\"]).mean()\n"
   ]
  },
  {
   "cell_type": "markdown",
   "metadata": {},
   "source": [
    "# MODELS"
   ]
  },
  {
   "cell_type": "code",
   "execution_count": null,
   "metadata": {},
   "outputs": [],
   "source": [
    "mean_masks = np.zeros([len(regs), 149, 182])\n",
    "for i, reg in enumerate(regs):\n",
    "    mean_masks[i][maskno == regdict[reg]['number']] = 1"
   ]
  },
  {
   "cell_type": "code",
   "execution_count": null,
   "metadata": {},
   "outputs": [],
   "source": [
    "import glob\n",
    "\n",
    "def make_yearlist(yrst, yrend, dtype, tr, baseDir):\n",
    "    yrs = np.arange(yrst,yrend+1,1)\n",
    "    ylist = []\n",
    "    for i in range(0,len(yrs)):\n",
    "        ty = f'{baseDir}/{tr}/ORCA2_1m_{yrs[i]}*{dtype}*.nc'\n",
    "        t2 = glob.glob(ty)\n",
    "        #print(t2)\n",
    "        ylist.append(t2[0])\n",
    "    return ylist\n"
   ]
  },
  {
   "cell_type": "markdown",
   "metadata": {},
   "source": [
    "    - Salinity data loading"
   ]
  },
  {
   "cell_type": "code",
   "execution_count": null,
   "metadata": {},
   "outputs": [],
   "source": [
    "baseDir = '/gpfs/data/greenocean/software/runs/'\n",
    "yrst = 1990\n",
    "yrend = 2020 \n",
    "depth = 0\n",
    "dtype = 'grid_T'    # note: use grid_T rather than grid\n",
    "modlist = ['TOM12_TJ_GEA0', 'TOM12_TJ_GEA1','TOM12_TJ_1ASA', 'TOM12_DW_WE43','TOM12_DW_GA01']"
   ]
  },
  {
   "cell_type": "code",
   "execution_count": null,
   "metadata": {},
   "outputs": [],
   "source": [
    "dtype = 'grid_T' \n",
    "\n",
    "data_SAL = {}\n",
    "\n",
    "for modnam in modlist:\n",
    "    tylist = make_yearlist(yrst, yrend, dtype, modnam, baseDir)\n",
    "    tdat = xr.open_mfdataset(tylist)\n",
    "\n",
    "    SAL0 = tdat.vosaline.isel(deptht=depth)\n",
    "    SAL_t = SAL0.mean(dim = ['time_counter'])    # 30 years average\n",
    "\n",
    "    SAL_total_mean = np.zeros([len(regs)])\n",
    "\n",
    "    for j in range(len(regs)):\n",
    "            mask_data_array = xr.DataArray(mean_masks[j], dims=['y', 'x'])\n",
    "            SAL_total_mean[j] = SAL_t.weighted(mask_data_array).mean(dim = ['x','y'])\n",
    "\n",
    "    data_SAL[modnam] = {'SAL_total_mean':SAL_total_mean}\n"
   ]
  },
  {
   "cell_type": "code",
   "execution_count": null,
   "metadata": {},
   "outputs": [],
   "source": [
    "data_SAL = pd.DataFrame(data=data_SAL)\n",
    "data_SAL"
   ]
  },
  {
   "cell_type": "markdown",
   "metadata": {},
   "source": [
    "    - DIC & TA data loading"
   ]
  },
  {
   "cell_type": "code",
   "execution_count": null,
   "metadata": {},
   "outputs": [],
   "source": [
    "data_DICTA = {}\n",
    "\n",
    "dtype = 'ptrc' \n",
    "\n",
    "for modnam in modlist:\n",
    "    tylist = make_yearlist(yrst, yrend, dtype, modnam, baseDir)\n",
    "    tdat = xr.open_mfdataset(tylist)\n",
    "\n",
    "    DIC0 = tdat.DIC.isel(deptht=depth)\n",
    "    TA0 = tdat.Alkalini.isel(deptht=depth)\n",
    "    DIC_t = DIC0.mean(dim = ['time_counter'])\n",
    "    TA_t = TA0.mean(dim = ['time_counter'])\n",
    "\n",
    "    DIC_total_mean = np.zeros([len(regs)])\n",
    "    TA_total_mean = np.zeros([len(regs),])\n",
    "\n",
    "    for j in range(len(regs)):\n",
    "            mask_data_array = xr.DataArray(mean_masks[j], dims=['y', 'x'])\n",
    "            DIC_total_mean[j] = DIC_t.weighted(mask_data_array).mean(dim = ['x','y'])\n",
    "            TA_total_mean[j] = TA_t.weighted(mask_data_array).mean(dim = ['x','y'])\n",
    "\n",
    "    data_DICTA[modnam] = {'TA_total_mean':  TA_total_mean, 'DIC_total_mean':DIC_total_mean}\n"
   ]
  },
  {
   "cell_type": "code",
   "execution_count": null,
   "metadata": {},
   "outputs": [],
   "source": [
    "data_DICTA = pd.DataFrame(data=data_DICTA)\n",
    "data_DICTA"
   ]
  },
  {
   "cell_type": "code",
   "execution_count": null,
   "metadata": {},
   "outputs": [],
   "source": [
    "data_total = pd.concat([data_SAL, data_DICTA])"
   ]
  },
  {
   "cell_type": "markdown",
   "metadata": {},
   "source": [
    "STD"
   ]
  },
  {
   "cell_type": "code",
   "execution_count": null,
   "metadata": {},
   "outputs": [],
   "source": [
    "# tdic = DIC0[0,:,:].values\n",
    "# tdic = ~np.isnan(tdic)\n",
    "# np.histogram(tdic)"
   ]
  },
  {
   "cell_type": "code",
   "execution_count": null,
   "metadata": {},
   "outputs": [],
   "source": [
    "## === for one model ===\n",
    "\n",
    "# fig = plt.figure()\n",
    "# ax = plt.subplot(111)\n",
    "\n",
    "# for j, reg in enumerate(regs):\n",
    "#     plt.scatter(DIC_total_mean[j] * 1e6, TA_total_mean[j] * 1e6, label = f'{reg}', color=cmap(norm(regdict[reg]['number'])))\n",
    "#     plt.errorbar(DIC_total_mean[j] * 1e6, TA_total_mean[j] * 1e6, xerr=DIC_STD[j]* 1e6,yerr=TA_STD[j]* 1e6,fmt='-o')\n",
    "\n",
    "\n",
    "# plt.title(f'{yrst}-{yrend} Surface TA vs. DIC, TOM12_TJ_GEA0')\n",
    "# plt.xlabel('DIC, umol/L')\n",
    "# plt.ylabel('TA, umol/L')\n",
    "\n",
    "# # Shrink current axis by 20%\n",
    "# box = ax.get_position()\n",
    "# ax.set_position([box.x0, box.y0, box.width * 0.8, box.height])\n",
    "\n",
    "# # Put a legend to the right of the current axis\n",
    "# ax.legend(loc='center left', bbox_to_anchor=(1, 0.5))\n",
    "\n",
    "# plt.show()"
   ]
  },
  {
   "cell_type": "code",
   "execution_count": null,
   "metadata": {},
   "outputs": [],
   "source": [
    "marker = ['^','s','v','*','X']\n",
    "s=70\n",
    "\n",
    "fig = plt.figure()\n",
    "ax = plt.subplot(111)\n",
    "\n",
    "for m, modam in enumerate(modlist):\n",
    "    for i, reg in enumerate(regs):\n",
    "        plt.scatter(data_total[modam]['SAL_total_mean'][i], \n",
    "                    data_total[modam]['DIC_total_mean'][i] * 1e6, \n",
    "                    marker = marker[m],color=cmap(norm(regdict[reg]['number'])))\n",
    "    \n",
    "    plt.scatter(data_total[modam]['SAL_total_mean'][i], \n",
    "                    data_total[modam]['DIC_total_mean'][i] * 1e6, \n",
    "                    marker = marker[m],color = 'k',label = modam, s=s,zorder=-5) # for lable\n",
    "\n",
    "plt.title(f'{yrst}-{yrend} Surface DIC vs. Salinity')\n",
    "\n",
    "plt.xlabel('Salinity')\n",
    "plt.ylabel('DIC, umol/L')\n",
    "\n",
    "# Shrink current axis by 20%\n",
    "box = ax.get_position()\n",
    "ax.set_position([box.x0, box.y0, box.width * 0.8, box.height])\n",
    "\n",
    "# Put a legend to the right of the current axis\n",
    "ax.legend(loc='center left', bbox_to_anchor=(1, 0.5))\n",
    "\n",
    "plt.show()"
   ]
  }
 ],
 "metadata": {
  "kernelspec": {
   "display_name": "Python 3 (ipykernel)",
   "language": "python",
   "name": "python3"
  },
  "language_info": {
   "codemirror_mode": {
    "name": "ipython",
    "version": 3
   },
   "file_extension": ".py",
   "mimetype": "text/x-python",
   "name": "python",
   "nbconvert_exporter": "python",
   "pygments_lexer": "ipython3",
   "version": "3.11.3"
  },
  "orig_nbformat": 4
 },
 "nbformat": 4,
 "nbformat_minor": 2
}
