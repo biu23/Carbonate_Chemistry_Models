{
 "cells": [
  {
   "attachments": {},
   "cell_type": "markdown",
   "metadata": {},
   "source": [
    "# DIC-TA,DIC - (TA-DIC) "
   ]
  },
  {
   "cell_type": "code",
   "execution_count": 11,
   "metadata": {},
   "outputs": [],
   "source": [
    "import numpy as np\n",
    "from cmocean import cm\n",
    "import cartopy as cp\n",
    "import cartopy.crs as ccrs\n",
    "import netCDF4 as nc\n",
    "import matplotlib.pyplot as plt\n",
    "import xarray as xr\n",
    "import sys\n",
    "sys.path.append('/gpfs/home/mep22dku/scratch/SOZONE')\n",
    "#list of models\n",
    "sys.path.append('/gpfs/home/mep22dku/scratch/SOZONE/UTILS')\n",
    "import utils as ut\n",
    "import lom\n",
    "\n",
    "\n",
    "%matplotlib inline\n",
    "import warnings\n",
    "from datetime import datetime\n",
    "warnings.filterwarnings('ignore')\n",
    "import cartopy.feature as cfeature\n",
    "from importlib import reload\n",
    "import matplotlib.path as mpath\n",
    "import glob\n",
    "import pickle\n",
    "import pandas as pd\n",
    "import seawater"
   ]
  },
  {
   "attachments": {},
   "cell_type": "markdown",
   "metadata": {},
   "source": [
    "    region"
   ]
  },
  {
   "cell_type": "code",
   "execution_count": 12,
   "metadata": {},
   "outputs": [
    {
     "data": {
      "text/plain": [
       "Text(0.5, 0.98, 'colours assigned')"
      ]
     },
     "execution_count": 12,
     "metadata": {},
     "output_type": "execute_result"
    },
    {
     "data": {
      "image/png": "[encoded data removed]",
      "text/plain": [
       "<Figure size 600x300 with 1 Axes>"
      ]
     },
     "metadata": {},
     "output_type": "display_data"
    }
   ],
   "source": [
    "regs = ['ARCTIC', 'P1', 'P2', 'P3', 'P4', 'P5', 'A1', 'A2', 'A3', 'A4', 'A5', 'I3', 'I4', 'I5']\n",
    "\n",
    "regdict = {'ARCTIC' : {'number' : 0.5},\n",
    "           'P1' : {'number': 1.0},\n",
    "          'P2' : {'number': 1.2},\n",
    "           'P3' : {'number': 1.4},\n",
    "           'P4' : {'number': 1.6},\n",
    "           'P5' : {'number': 1.8},\n",
    "            'A1' : {'number': 2.4},\n",
    "          'A2' : {'number': 2.6},\n",
    "           'A3' : {'number': 2.8},\n",
    "           'A4' : {'number': 3},\n",
    "           'A5' : {'number': 3.2},\n",
    "           'I3' : {'number': 3.6},\n",
    "           'I4' : {'number': 3.8},\n",
    "           'I5' : {'number': 4},\n",
    "           \n",
    "          }\n",
    "    \n",
    "tics = []\n",
    "tcm = 'Spectral'\n",
    "tmask = nc.Dataset('/gpfs/data/greenocean/software/resources/breakdown/clq_basin_masks_ORCA.nc')\n",
    "\n",
    "maskno = np.zeros([149,182])\n",
    "for i in range(0, len(regs)):\n",
    "    maskno[tmask[regs[i]][:] == 1] = regdict[regs[i]]['number']\n",
    "    tics.append(regdict[regs[i]]['number'])\n",
    "maskno[maskno == 0] = np.nan\n",
    "\n",
    "\n",
    "# w = plt.pcolor(maskno, cmap = tcm, vmin = 0.5, vmax = 4)\n",
    "# cbar = plt.colorbar(w, ticks=tics)\n",
    "# t = cbar.ax.set_yticklabels(['ARCTIC', 'P1', 'P2', 'P3', 'P4', 'P5', 'A1', 'A2', 'A3', 'A4', 'A5', 'I3', 'I4', 'I5'], fontsize = 9)\n",
    "# plt.suptitle('ocean regions, subdivided')\n",
    "\n",
    "fact = 0.2\n",
    "fig = plt.figure(figsize=(30*fact,15*fact))\n",
    "import matplotlib\n",
    "cmap = matplotlib.cm.get_cmap('Spectral')\n",
    "norm = matplotlib.colors.Normalize(vmin=0.5, vmax=4)\n",
    "for i in range(0,len(regs)):\n",
    "    rgba = cmap(norm(regdict[regs[i]]['number']))\n",
    "    plt.plot(regdict[regs[i]]['number'], 1, marker = 'o', color = rgba, label = regs[i])\n",
    "    regdict[regs[i]]['colour'] = rgba\n",
    "plt.legend(ncol = 5, fontsize = 10)\n",
    "plt.suptitle('colours assigned')"
   ]
  },
  {
   "attachments": {},
   "cell_type": "markdown",
   "metadata": {},
   "source": [
    "    (make_yearlist) read model data(1)"
   ]
  },
  {
   "cell_type": "code",
   "execution_count": 13,
   "metadata": {},
   "outputs": [],
   "source": [
    "# import glob\n",
    "\n",
    "# def make_yearlist(yrst, yrend, dtype, tr, baseDir):\n",
    "#     yrs = np.arange(yrst,yrend+1,1)\n",
    "#     ylist = []\n",
    "#     for i in range(0,len(yrs)):\n",
    "#         ty = f'{baseDir}/{tr}/ORCA2_1m_{yrs[i]}*{dtype}*.nc'\n",
    "#         t2 = glob.glob(ty)\n",
    "#         #print(t2)\n",
    "#         ylist.append(t2[0])\n",
    "#     return ylist\n",
    "\n",
    "# baseDir = '/gpfs/data/greenocean/software/runs/'\n",
    "# tr = 'TOM12_TJ_GEA0'\n",
    "# yrst = 1990\n",
    "# yrend = 2020\n",
    "# dtype = 'ptrc'\n",
    "# tylist = make_yearlist(yrst, yrend, dtype, tr, baseDir)\n",
    "# tdat_GEA0 = xr.open_mfdataset(tylist)\n",
    "\n",
    "\n",
    "# tr = 'TOM12_DW_GA01'\n",
    "# yrst = 1990\n",
    "# yrend = 2020\n",
    "# dtype = 'ptrc'\n",
    "# tylist = make_yearlist(yrst, yrend, dtype, tr, baseDir)\n",
    "# tdat_GA01 = xr.open_mfdataset(tylist)\n",
    "\n",
    "\n",
    "# tr = 'TOM12_DW_WE43'\n",
    "# yrst = 1990\n",
    "# yrend = 2020\n",
    "# dtype = 'ptrc'\n",
    "# tylist = make_yearlist(yrst, yrend, dtype, tr, baseDir)\n",
    "# tdat_WE43 = xr.open_mfdataset(tylist)"
   ]
  },
  {
   "attachments": {},
   "cell_type": "markdown",
   "metadata": {},
   "source": [
    "    mesh_mask"
   ]
  },
  {
   "cell_type": "code",
   "execution_count": 14,
   "metadata": {},
   "outputs": [],
   "source": [
    "tmesh = xr.open_dataset('/gpfs/data/greenocean/software/resources/regrid/mesh_mask3_6.nc')\n",
    "tmesh['csize'] = tmesh.tmask[0,0,:,:] * tmesh.e1t[0,:,:] * tmesh.e2t[0,:,:] # area of grid cells\n",
    "csize_broad = np.zeros([31,149,182])\n",
    "for i in range(0,31):\n",
    "    csize_broad[i,:,:] = tmesh['csize'].values\n",
    "cvol = csize_broad * tmesh['e3t_0'][0,:,:,:] * tmesh['tmask'][0,:,:,:]"
   ]
  },
  {
   "cell_type": "code",
   "execution_count": 15,
   "metadata": {},
   "outputs": [],
   "source": [
    "tmesh['maskno'] = tmesh.tmask[0,0,:,:] * tmesh.e1t[0,:,:] * tmesh.e2t[0,:,:] # area of grid cells\n",
    "maskno_broad = np.zeros([31,149,182])\n",
    "for i in range(0,31):\n",
    "    csize_broad[i,:,:] = tmesh['maskno'].values\n",
    "# cvol = csize_broad * tmesh['e3t_0'][0,:,:,:] * tmesh['tmask'][0,:,:,:]"
   ]
  },
  {
   "attachments": {},
   "cell_type": "markdown",
   "metadata": {},
   "source": [
    "    region"
   ]
  },
  {
   "cell_type": "code",
   "execution_count": 16,
   "metadata": {},
   "outputs": [
    {
     "name": "stdout",
     "output_type": "stream",
     "text": [
      "['ARCTIC', 'P1', 'P2', 'P3', 'P4', 'P5', 'A1', 'A2', 'A3', 'A4', 'A5', 'I3', 'I4', 'I5', 'GLOBAL']\n"
     ]
    }
   ],
   "source": [
    "regs_g = regs.copy()\n",
    "regs_g.append('GLOBAL')\n",
    "print(regs_g)"
   ]
  },
  {
   "cell_type": "code",
   "execution_count": 46,
   "metadata": {},
   "outputs": [
    {
     "name": "stdout",
     "output_type": "stream",
     "text": [
      "./EXTRACTED/MLD/MLD_TOM12_TJ_GEA0_2015_2020.nc\n"
     ]
    },
    {
     "ename": "type",
     "evalue": "'DIC' has more than 1-dimension and the same name as one of its dimensions ('region', 'DIC'). xarray disallows such variables because they conflict with the coordinates used to label dimensions.",
     "output_type": "error",
     "traceback": [
      "\u001b[0;31m---------------------------------------------------------------------------\u001b[0m",
      "\u001b[0;31mMissingDimensionsError\u001b[0m                    Traceback (most recent call last)",
      "Cell \u001b[0;32mIn[46], line 43\u001b[0m\n\u001b[1;32m     39\u001b[0m attrs \u001b[39m=\u001b[39m {\u001b[39m'\u001b[39m\u001b[39mmade in\u001b[39m\u001b[39m'\u001b[39m:\u001b[39m'\u001b[39m\u001b[39mAnalysisRobot/Tester_multimodel_MLD.ipynb\u001b[39m\u001b[39m'\u001b[39m,\n\u001b[1;32m     40\u001b[0m         }\n\u001b[1;32m     42\u001b[0m \u001b[39m# create dataset\u001b[39;00m\n\u001b[0;32m---> 43\u001b[0m ds \u001b[39m=\u001b[39m xr\u001b[39m.\u001b[39;49mDataset(data_vars\u001b[39m=\u001b[39;49mdata_vars,\n\u001b[1;32m     44\u001b[0m                 coords\u001b[39m=\u001b[39;49mcoords,\n\u001b[1;32m     45\u001b[0m                 attrs\u001b[39m=\u001b[39;49mattrs)\n\u001b[1;32m     46\u001b[0m ds\u001b[39m.\u001b[39mto_netcdf(fnam)\n",
      "File \u001b[0;32m~/.conda/envs/mai/lib/python3.11/site-packages/xarray/core/dataset.py:749\u001b[0m, in \u001b[0;36mDataset.__init__\u001b[0;34m(self, data_vars, coords, attrs)\u001b[0m\n\u001b[1;32m    746\u001b[0m \u001b[39mif\u001b[39;00m \u001b[39misinstance\u001b[39m(coords, Dataset):\n\u001b[1;32m    747\u001b[0m     coords \u001b[39m=\u001b[39m coords\u001b[39m.\u001b[39mvariables\n\u001b[0;32m--> 749\u001b[0m variables, coord_names, dims, indexes, _ \u001b[39m=\u001b[39m merge_data_and_coords(\n\u001b[1;32m    750\u001b[0m     data_vars, coords, compat\u001b[39m=\u001b[39;49m\u001b[39m\"\u001b[39;49m\u001b[39mbroadcast_equals\u001b[39;49m\u001b[39m\"\u001b[39;49m\n\u001b[1;32m    751\u001b[0m )\n\u001b[1;32m    753\u001b[0m \u001b[39mself\u001b[39m\u001b[39m.\u001b[39m_attrs \u001b[39m=\u001b[39m \u001b[39mdict\u001b[39m(attrs) \u001b[39mif\u001b[39;00m attrs \u001b[39mis\u001b[39;00m \u001b[39mnot\u001b[39;00m \u001b[39mNone\u001b[39;00m \u001b[39melse\u001b[39;00m \u001b[39mNone\u001b[39;00m\n\u001b[1;32m    754\u001b[0m \u001b[39mself\u001b[39m\u001b[39m.\u001b[39m_close \u001b[39m=\u001b[39m \u001b[39mNone\u001b[39;00m\n",
      "File \u001b[0;32m~/.conda/envs/mai/lib/python3.11/site-packages/xarray/core/merge.py:483\u001b[0m, in \u001b[0;36mmerge_data_and_coords\u001b[0;34m(data, coords, compat, join)\u001b[0m\n\u001b[1;32m    481\u001b[0m explicit_coords \u001b[39m=\u001b[39m coords\u001b[39m.\u001b[39mkeys()\n\u001b[1;32m    482\u001b[0m indexes \u001b[39m=\u001b[39m \u001b[39mdict\u001b[39m(_extract_indexes_from_coords(coords))\n\u001b[0;32m--> 483\u001b[0m \u001b[39mreturn\u001b[39;00m merge_core(\n\u001b[1;32m    484\u001b[0m     objects, compat, join, explicit_coords\u001b[39m=\u001b[39;49mexplicit_coords, indexes\u001b[39m=\u001b[39;49mindexes\n\u001b[1;32m    485\u001b[0m )\n",
      "File \u001b[0;32m~/.conda/envs/mai/lib/python3.11/site-packages/xarray/core/merge.py:632\u001b[0m, in \u001b[0;36mmerge_core\u001b[0;34m(objects, compat, join, combine_attrs, priority_arg, explicit_coords, indexes, fill_value)\u001b[0m\n\u001b[1;32m    628\u001b[0m coerced \u001b[39m=\u001b[39m coerce_pandas_values(objects)\n\u001b[1;32m    629\u001b[0m aligned \u001b[39m=\u001b[39m deep_align(\n\u001b[1;32m    630\u001b[0m     coerced, join\u001b[39m=\u001b[39mjoin, copy\u001b[39m=\u001b[39m\u001b[39mFalse\u001b[39;00m, indexes\u001b[39m=\u001b[39mindexes, fill_value\u001b[39m=\u001b[39mfill_value\n\u001b[1;32m    631\u001b[0m )\n\u001b[0;32m--> 632\u001b[0m collected \u001b[39m=\u001b[39m collect_variables_and_indexes(aligned)\n\u001b[1;32m    634\u001b[0m prioritized \u001b[39m=\u001b[39m _get_priority_vars_and_indexes(aligned, priority_arg, compat\u001b[39m=\u001b[39mcompat)\n\u001b[1;32m    635\u001b[0m variables, out_indexes \u001b[39m=\u001b[39m merge_collected(\n\u001b[1;32m    636\u001b[0m     collected, prioritized, compat\u001b[39m=\u001b[39mcompat, combine_attrs\u001b[39m=\u001b[39mcombine_attrs\n\u001b[1;32m    637\u001b[0m )\n",
      "File \u001b[0;32m~/.conda/envs/mai/lib/python3.11/site-packages/xarray/core/merge.py:291\u001b[0m, in \u001b[0;36mcollect_variables_and_indexes\u001b[0;34m(list_of_mappings)\u001b[0m\n\u001b[1;32m    288\u001b[0m     indexes\u001b[39m.\u001b[39mpop(name, \u001b[39mNone\u001b[39;00m)\n\u001b[1;32m    289\u001b[0m     append_all(coords, indexes)\n\u001b[0;32m--> 291\u001b[0m variable \u001b[39m=\u001b[39m as_variable(variable, name\u001b[39m=\u001b[39;49mname)\n\u001b[1;32m    293\u001b[0m \u001b[39mif\u001b[39;00m variable\u001b[39m.\u001b[39mdims \u001b[39m==\u001b[39m (name,):\n\u001b[1;32m    294\u001b[0m     idx_variable \u001b[39m=\u001b[39m variable\u001b[39m.\u001b[39mto_index_variable()\n",
      "File \u001b[0;32m~/.conda/envs/mai/lib/python3.11/site-packages/xarray/core/variable.py:147\u001b[0m, in \u001b[0;36mas_variable\u001b[0;34m(obj, name)\u001b[0m\n\u001b[1;32m    144\u001b[0m \u001b[39mif\u001b[39;00m name \u001b[39mis\u001b[39;00m \u001b[39mnot\u001b[39;00m \u001b[39mNone\u001b[39;00m \u001b[39mand\u001b[39;00m name \u001b[39min\u001b[39;00m obj\u001b[39m.\u001b[39mdims:\n\u001b[1;32m    145\u001b[0m     \u001b[39m# convert the Variable into an Index\u001b[39;00m\n\u001b[1;32m    146\u001b[0m     \u001b[39mif\u001b[39;00m obj\u001b[39m.\u001b[39mndim \u001b[39m!=\u001b[39m \u001b[39m1\u001b[39m:\n\u001b[0;32m--> 147\u001b[0m         \u001b[39mraise\u001b[39;00m MissingDimensionsError(\n\u001b[1;32m    148\u001b[0m             \u001b[39mf\u001b[39m\u001b[39m\"\u001b[39m\u001b[39m{\u001b[39;00mname\u001b[39m!r}\u001b[39;00m\u001b[39m has more than 1-dimension and the same name as one of its \u001b[39m\u001b[39m\"\u001b[39m\n\u001b[1;32m    149\u001b[0m             \u001b[39mf\u001b[39m\u001b[39m\"\u001b[39m\u001b[39mdimensions \u001b[39m\u001b[39m{\u001b[39;00mobj\u001b[39m.\u001b[39mdims\u001b[39m!r}\u001b[39;00m\u001b[39m. xarray disallows such variables because they \u001b[39m\u001b[39m\"\u001b[39m\n\u001b[1;32m    150\u001b[0m             \u001b[39m\"\u001b[39m\u001b[39mconflict with the coordinates used to label dimensions.\u001b[39m\u001b[39m\"\u001b[39m\n\u001b[1;32m    151\u001b[0m         )\n\u001b[1;32m    152\u001b[0m     obj \u001b[39m=\u001b[39m obj\u001b[39m.\u001b[39mto_index_variable()\n\u001b[1;32m    154\u001b[0m \u001b[39mreturn\u001b[39;00m obj\n",
      "\u001b[0;31mMissingDimensionsError\u001b[0m: 'DIC' has more than 1-dimension and the same name as one of its dimensions ('region', 'DIC'). xarray disallows such variables because they conflict with the coordinates used to label dimensions."
     ]
    }
   ],
   "source": [
    "extracthorse = True\n",
    "if extracthorse:\n",
    "    yst = 2015; yen = 2020; \n",
    "    modlist = ['TOM12_TJ_GEA0']     # 'TOM12_DW_GA01','TOM12_DW_WE43']\n",
    "\n",
    "\n",
    "    for modnam in modlist:\n",
    "        dtype = 'ptrc_T'; #modnam = modlist[r]\n",
    "        fnam = f'./EXTRACTED/MLD/MLD_{modnam}_{yst}_{yen}.nc'\n",
    "        print(fnam)\n",
    "\n",
    "        ylist = ut.make_yearlist(yst, yen, dtype, modnam)\n",
    "        tdat = xr.open_mfdataset(ylist)\n",
    "\n",
    "        DIC_ts = tdat.DIC.isel(deptht=0).weighted(tmesh['csize']).mean(dim = ['x','y']) #surface DIC\n",
    "        TA_ts = tdat.Alkalini.isel(deptht=0).weighted(tmesh['csize']).mean(dim = ['x','y'])\n",
    "\n",
    "        tDIC = np.zeros([34,30])\n",
    "        DIC_ts = tdat.DIC.isel(deptht=0).values\n",
    "        for r in range(0,len(regs)):\n",
    "            csize_copy = np.copy(csize_broad)\n",
    "            csize_copy[maskno_broad != regdict[regs[r]]['number']] = 0\n",
    "            for i in range(0,30):\n",
    "                tDIC[r,i] = np.ma.average(DIC_ts[i,:,:], weights = csize_copy[0,:,:])\n",
    "        \n",
    "        \n",
    "        ### get the global one\n",
    "        \n",
    "        data_vars = {'DIC':(['region', 'DIC'], tDIC,\n",
    "                                 {'units': 'model'}),\n",
    "                    # 'mldr10_1':(['region', 'month'], mldr10_1,\n",
    "                    #              {'units': 'm'}),             \n",
    "                    }\n",
    "\n",
    "        coords = {'region': (['region'], regs_g),\\\n",
    "                 'tDIC': (['DIC'], np.arange(1,13,1))}\n",
    "\n",
    "        # define global attributes\n",
    "        attrs = {'made in':'AnalysisRobot/Tester_multimodel_MLD.ipynb',\n",
    "                }\n",
    "\n",
    "        # create dataset\n",
    "        ds = xr.Dataset(data_vars=data_vars,\n",
    "                        coords=coords,\n",
    "                        attrs=attrs)\n",
    "        ds.to_netcdf(fnam)"
   ]
  },
  {
   "cell_type": "markdown",
   "metadata": {},
   "source": [
    "    load data from EXTRACTED/MLD"
   ]
  },
  {
   "cell_type": "code",
   "execution_count": 42,
   "metadata": {},
   "outputs": [
    {
     "name": "stdout",
     "output_type": "stream",
     "text": [
      "<xarray.Dataset>\n",
      "Dimensions:               (y: 5, x: 5, deptht: 5, time_counter: 5,\n",
      "                           axis_nbounds: 2)\n",
      "Coordinates:\n",
      "    nav_lat               (y, x) float32 dask.array<chunksize=(5, 5), meta=np.ndarray>\n",
      "    nav_lon               (y, x) float32 dask.array<chunksize=(5, 5), meta=np.ndarray>\n",
      "  * deptht                (deptht) float32 5.0 15.0 25.0 35.01 45.01\n",
      "    time_centered         (time_counter) object dask.array<chunksize=(5,), meta=np.ndarray>\n",
      "  * time_counter          (time_counter) object 1990-01-16 12:00:00 ... 1990-...\n",
      "Dimensions without coordinates: y, x, axis_nbounds\n",
      "Data variables: (12/34)\n",
      "    deptht_bounds         (time_counter, deptht, axis_nbounds) float32 dask.array<chunksize=(5, 5, 2), meta=np.ndarray>\n",
      "    Alkalini              (time_counter, deptht, y, x) float32 dask.array<chunksize=(5, 5, 5, 5), meta=np.ndarray>\n",
      "    time_centered_bounds  (time_counter, axis_nbounds) object dask.array<chunksize=(5, 2), meta=np.ndarray>\n",
      "    time_counter_bounds   (time_counter, axis_nbounds) object dask.array<chunksize=(5, 2), meta=np.ndarray>\n",
      "    O2                    (time_counter, deptht, y, x) float32 dask.array<chunksize=(5, 5, 5, 5), meta=np.ndarray>\n",
      "    DIC                   (time_counter, deptht, y, x) float32 dask.array<chunksize=(5, 5, 5, 5), meta=np.ndarray>\n",
      "    ...                    ...\n",
      "    BSi                   (time_counter, deptht, y, x) float32 dask.array<chunksize=(5, 5, 5, 5), meta=np.ndarray>\n",
      "    GON                   (time_counter, deptht, y, x) float32 dask.array<chunksize=(5, 5, 5, 5), meta=np.ndarray>\n",
      "    C11                   (time_counter, deptht, y, x) float32 dask.array<chunksize=(5, 5, 5, 5), meta=np.ndarray>\n",
      "    B14B                  (time_counter, deptht, y, x) float32 dask.array<chunksize=(5, 5, 5, 5), meta=np.ndarray>\n",
      "    C14B                  (time_counter, deptht, y, x) float32 dask.array<chunksize=(5, 5, 5, 5), meta=np.ndarray>\n",
      "    D14B                  (time_counter, deptht, y, x) float32 dask.array<chunksize=(5, 5, 5, 5), meta=np.ndarray>\n",
      "Attributes:\n",
      "    name:         ORCA2_1m_19900101_19901231\n",
      "    description:  planktom sms variables\n",
      "    title:        planktom sms variables\n",
      "    Conventions:  CF-1.5\n",
      "    production:   An IPSL model\n",
      "    timeStamp:    2023-Jun-19 23:39:22 BST\n"
     ]
    }
   ],
   "source": [
    "print(tdat.head(5))"
   ]
  },
  {
   "cell_type": "code",
   "execution_count": 39,
   "metadata": {},
   "outputs": [
    {
     "ename": "type",
     "evalue": "'Dataset' object has no attribute 'DIC'",
     "output_type": "error",
     "traceback": [
      "\u001b[0;31m---------------------------------------------------------------------------\u001b[0m",
      "\u001b[0;31mAttributeError\u001b[0m                            Traceback (most recent call last)",
      "Cell \u001b[0;32mIn[39], line 1\u001b[0m\n\u001b[0;32m----> 1\u001b[0m DIC_ts_GEA0 \u001b[39m=\u001b[39m tdat_GEA0\u001b[39m.\u001b[39;49mDIC\u001b[39m.\u001b[39misel(deptht\u001b[39m=\u001b[39m\u001b[39m0\u001b[39m)\u001b[39m.\u001b[39mweighted(tmesh[\u001b[39m'\u001b[39m\u001b[39mcsize\u001b[39m\u001b[39m'\u001b[39m])\u001b[39m.\u001b[39mmean(dim \u001b[39m=\u001b[39m [\u001b[39m'\u001b[39m\u001b[39mx\u001b[39m\u001b[39m'\u001b[39m,\u001b[39m'\u001b[39m\u001b[39my\u001b[39m\u001b[39m'\u001b[39m]) \u001b[39m#surface DIC\u001b[39;00m\n\u001b[1;32m      2\u001b[0m TA_ts_GEA0 \u001b[39m=\u001b[39m tdat_GEA0\u001b[39m.\u001b[39mAlkalini\u001b[39m.\u001b[39misel(deptht\u001b[39m=\u001b[39m\u001b[39m0\u001b[39m)\u001b[39m.\u001b[39mweighted(tmesh[\u001b[39m'\u001b[39m\u001b[39mcsize\u001b[39m\u001b[39m'\u001b[39m])\u001b[39m.\u001b[39mmean(dim \u001b[39m=\u001b[39m [\u001b[39m'\u001b[39m\u001b[39mx\u001b[39m\u001b[39m'\u001b[39m,\u001b[39m'\u001b[39m\u001b[39my\u001b[39m\u001b[39m'\u001b[39m])\n",
      "File \u001b[0;32m~/.conda/envs/mai/lib/python3.11/site-packages/xarray/core/common.py:239\u001b[0m, in \u001b[0;36mAttrAccessMixin.__getattr__\u001b[0;34m(self, name)\u001b[0m\n\u001b[1;32m    237\u001b[0m         \u001b[39mwith\u001b[39;00m suppress(\u001b[39mKeyError\u001b[39;00m):\n\u001b[1;32m    238\u001b[0m             \u001b[39mreturn\u001b[39;00m source[name]\n\u001b[0;32m--> 239\u001b[0m \u001b[39mraise\u001b[39;00m \u001b[39mAttributeError\u001b[39;00m(\n\u001b[1;32m    240\u001b[0m     \u001b[39mf\u001b[39m\u001b[39m\"\u001b[39m\u001b[39m{\u001b[39;00m\u001b[39mtype\u001b[39m(\u001b[39mself\u001b[39m)\u001b[39m.\u001b[39m\u001b[39m__name__\u001b[39m\u001b[39m!r}\u001b[39;00m\u001b[39m object has no attribute \u001b[39m\u001b[39m{\u001b[39;00mname\u001b[39m!r}\u001b[39;00m\u001b[39m\"\u001b[39m\n\u001b[1;32m    241\u001b[0m )\n",
      "\u001b[0;31mAttributeError\u001b[0m: 'Dataset' object has no attribute 'DIC'"
     ]
    }
   ],
   "source": [
    "DIC_ts_GEA0 = tdat_GEA0.DIC.isel(deptht=0).weighted(tmesh['csize']).mean(dim = ['x','y']) #surface DIC\n",
    "TA_ts_GEA0 = tdat_GEA0.Alkalini.isel(deptht=0).weighted(tmesh['csize']).mean(dim = ['x','y'])"
   ]
  },
  {
   "attachments": {},
   "cell_type": "markdown",
   "metadata": {},
   "source": [
    "    weighted mean DIC"
   ]
  },
  {
   "cell_type": "code",
   "execution_count": 18,
   "metadata": {},
   "outputs": [],
   "source": [
    "# ## weighted mean DIC\n",
    "\n",
    "\n",
    "# DIC_ts_GA01 = tdat_GA01.DIC.isel(deptht=0).weighted(tmesh['csize']).mean(dim = ['x','y']) #surface DIC\n",
    "# TA_ts_GA01 = tdat_GA01.Alkalini.isel(deptht=0).weighted(tmesh['csize']).mean(dim = ['x','y'])\n",
    "\n",
    "# DIC_ts_WE43 = tdat_WE43.DIC.isel(deptht=0).weighted(tmesh['csize']).mean(dim = ['x','y']) #surface DIC\n",
    "# TA_ts_WE43 = tdat_WE43.Alkalini.isel(deptht=0).weighted(tmesh['csize']).mean(dim = ['x','y'])"
   ]
  },
  {
   "attachments": {},
   "cell_type": "markdown",
   "metadata": {},
   "source": [
    "    try plot"
   ]
  },
  {
   "cell_type": "code",
   "execution_count": 19,
   "metadata": {},
   "outputs": [],
   "source": [
    "# # TA vs. DIC\n",
    "\n",
    "# plt.plot(DIC_ts_GEA0*1e6, TA_ts_GEA0*1e6, label = 'TOM12_DW_WE43')\n",
    "# plt.legend()\n",
    "# plt.title('1990-2020 Surface TA vs. DIC umol/L')"
   ]
  },
  {
   "cell_type": "code",
   "execution_count": null,
   "metadata": {},
   "outputs": [],
   "source": []
  }
 ],
 "metadata": {
  "kernelspec": {
   "display_name": "Python 3 (ipykernel)",
   "language": "python",
   "name": "python3"
  },
  "language_info": {
   "codemirror_mode": {
    "name": "ipython",
    "version": 3
   },
   "file_extension": ".py",
   "mimetype": "text/x-python",
   "name": "python",
   "nbconvert_exporter": "python",
   "pygments_lexer": "ipython3",
   "version": "3.11.3"
  },
  "orig_nbformat": 4
 },
 "nbformat": 4,
 "nbformat_minor": 2
}
