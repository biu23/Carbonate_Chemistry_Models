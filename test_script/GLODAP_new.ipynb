{
 "cells": [
  {
   "cell_type": "code",
   "execution_count": null,
   "metadata": {},
   "outputs": [],
   "source": [
    "import numpy as np\n",
    "from cmocean import cm\n",
    "import netCDF4 as nc\n",
    "import matplotlib.pyplot as plt\n",
    "import xarray as xr\n",
    "import sys\n",
    "sys.path.append('/gpfs/home/mep22dku/scratch/SOZONE')\n",
    "\n",
    "%matplotlib inline\n",
    "import warnings\n",
    "from datetime import datetime\n",
    "warnings.filterwarnings('ignore')\n",
    "from importlib import reload\n",
    "import matplotlib.path as mpath\n",
    "import glob\n",
    "import pickle\n",
    "import pandas as pd\n",
    "import seawater"
   ]
  },
  {
   "attachments": {},
   "cell_type": "markdown",
   "metadata": {},
   "source": [
    "# Data clean, save as new .csv file to mai_workspace"
   ]
  },
  {
   "cell_type": "code",
   "execution_count": null,
   "metadata": {},
   "outputs": [],
   "source": [
    "# runhorse = True\n",
    "# if runhorse:\n",
    "\n",
    "#     tdir = '/gpfs/home/mep22dku/scratch/DATA/'\n",
    "#     glodap = pd.read_csv(f'{tdir}GLODAPv2.2021_Merged_Master_File.csv')\n",
    "#     pd.set_option('display.max_columns', None)\n",
    "#     pd.set_option('display.max_rows', None)\n",
    "#     #print(glodap.head())\n",
    "\n",
    "#     tDIC = np.array(glodap['G2tco2'][:])\n",
    "#     tco2f = np.array(glodap['G2tco2f'][:])\n",
    "#     tco2qc = np.array(glodap['G2tco2qc'][:])\n",
    "\n",
    "#     tALK = np.array(glodap['G2talk'][:])\n",
    "#     talkf = np.array(glodap['G2talkf'][:])\n",
    "#     tco2f = np.array(glodap['G2tco2f'][:])\n",
    "\n",
    "#     tSAL = np.array(glodap['G2salinity'][:])\n",
    "#     tTEMP = np.array(glodap['G2temperature'][:])\n",
    "#     tPRES = np.array(glodap['G2pressure'][:])\n",
    "#     tLAT = np.array(glodap['G2latitude'][:])\n",
    "#     tLON = np.array(glodap['G2longitude'][:])\n",
    "#     tYEAR = np.array(glodap['G2year'])\n",
    "#     tMONTH = np.array(glodap['G2month'])\n",
    "#     #tAOU = np.array(glodap['aou'][:])\n",
    "\n",
    "#     dens = seawater.dens(tSAL,tTEMP,tPRES)\n",
    "#     tDIC=tDIC*dens/1000\n",
    "#     tALK=tALK*dens/1000\n",
    "\n",
    "#     tALK_DIC = tALK-tDIC\n",
    "#     tALK_DIC2 = tALK-(tDIC+50)\n",
    "\n",
    "#     # tfilt = (tLAT <= -50) & (tco2f < 9) & (talkf <9) & ~np.isnan(tDIC) & ~np.isnan(tALK) \n",
    "#     tfilt = (tco2f < 9) & (talkf <9) & ~np.isnan(tDIC) & ~np.isnan(tALK) \n",
    "#     tALK_SO = tDIC[tfilt]\n",
    "#     print(np.nanmin(tALK_SO))\n",
    "#     tco2f_SO =  tco2f[tfilt]\n",
    "#     tco2qc_SO = tco2qc[tfilt]\n",
    "#     tALK_SO = tALK[tfilt]\n",
    "#     talkf_SO = talkf[tfilt]\n",
    "#     tco2f_SO = tco2f[tfilt]\n",
    "\n",
    "#     tSAL_SO = tSAL[tfilt]\n",
    "#     tTEMP_SO = tTEMP[tfilt]\n",
    "#     tPRES_SO = tPRES[tfilt]\n",
    "#     tLAT_SO = tLAT[tfilt]\n",
    "#     tLON_SO = tLON[tfilt]\n",
    "#     tYEAR_SO = tYEAR[tfilt]\n",
    "#     tMONTH_SO = tMONTH[tfilt]\n",
    "#     tSECT_SO = np.zeros_like(tLON_SO)\n",
    "#     tSECT_SO[(tLON_SO <= -67) | (tLON_SO > 150)] = 4 #pacific\n",
    "#     tSECT_SO[(tLON_SO <= 20) &(tLON_SO > -67)] = 2 #atl\n",
    "#     tSECT_SO[(tLON_SO > 20) &(tLON_SO <= 150)] = 3 #indian\n",
    "\n",
    "#     print(np.shape(tYEAR_SO))\n",
    "#     df = pd.DataFrame([tYEAR_SO,tMONTH_SO,tDIC_SO,tALK_SO,tSAL_SO,tTEMP_SO,tPRES_SO,tLAT_SO,tLON_SO,tSECT_SO]).T\n",
    "#     # df = df.sort_values(by = tYEAR_SO)\n",
    "#     df.columns = ['YR', 'MONTH', 'DIC', 'ALK', 'SAL', 'TEMP', 'PRES', 'LAT', 'LON', 'SECT']\n",
    "#     # df.to_csv('/gpfs/home/gdg21vsa/mai_workspace/GLODAPv2.2021_GLOBE_valid_DICTA_umolL.csv')"
   ]
  },
  {
   "cell_type": "code",
   "execution_count": null,
   "metadata": {},
   "outputs": [],
   "source": [
    "# df.to_csv('/gpfs/home/gdg21vsa/mai_workspace/GLODAPv2.2021_GLOBE_valid_DICTA_umolL.csv')"
   ]
  },
  {
   "attachments": {},
   "cell_type": "markdown",
   "metadata": {},
   "source": [
    "# Read new .csv file; Valid DIC and TA measurements in Global Ocean \\n GLODAPv2.2021"
   ]
  },
  {
   "cell_type": "code",
   "execution_count": null,
   "metadata": {},
   "outputs": [],
   "source": [
    "df = pd.read_csv('/gpfs/home/gdg21vsa/mai_workspace/GLODAPv2.2021_GLOBE_valid_DICTA_umolL.csv')\n",
    "df = df.sort_values(by = 'YR')\n",
    "\n",
    "tDIC_SO = np.array(df['DIC'][:])\n",
    "tALK_SO = np.array(df['ALK'][:])\n",
    "\n",
    "\n",
    "tSAL_SO = np.array(df['SAL'][:])\n",
    "tTEMP_SO = np.array(df['TEMP'][:])\n",
    "tPRES_SO = np.array(df['PRES'][:])\n",
    "tLAT_SO = np.array(df['LAT'][:])\n",
    "tLON_SO = np.array(df['LON'][:])\n",
    "tYEAR_SO = np.array(df['YR'])\n",
    "tMONTH_SO = np.array(df['MONTH'])\n",
    "tSECT_SO = np.array(df['SECT'])"
   ]
  },
  {
   "cell_type": "code",
   "execution_count": null,
   "metadata": {},
   "outputs": [],
   "source": [
    "print(df.head(5).describe())"
   ]
  },
  {
   "attachments": {},
   "cell_type": "markdown",
   "metadata": {},
   "source": [
    "# DIC"
   ]
  },
  {
   "cell_type": "code",
   "execution_count": null,
   "metadata": {},
   "outputs": [],
   "source": [
    "yrs = np.arange(1972,2021,1)\n",
    "OBS_depths = np.zeros([5,len(yrs)])\n",
    "OBS_seas = np.zeros([4,len(yrs)])\n",
    "OBS_lats = np.zeros([6,len(yrs)])\n",
    "OBS_sects = np.zeros([3,len(yrs)])\n",
    "\n",
    "for i in range(0,len(yrs)):\n",
    "    tyr = yrs[i]\n",
    "\n",
    "    OBS_depths[0,i] = np.size(tDIC_SO[(tYEAR_SO == tyr) & (tPRES_SO<=200)])\n",
    "    OBS_depths[1,i] = np.size(tDIC_SO[(tYEAR_SO == tyr) & (tPRES_SO>200) & (tPRES_SO<=500)]) \n",
    "    OBS_depths[2,i] = np.size(tDIC_SO[(tYEAR_SO == tyr) & (tPRES_SO>500) & (tPRES_SO<=1000)]) \n",
    "    OBS_depths[3,i] = np.size(tDIC_SO[(tYEAR_SO == tyr) & (tPRES_SO>1000) & (tPRES_SO<=3000)]) \n",
    "    OBS_depths[4,i] = np.size(tDIC_SO[(tYEAR_SO == tyr) & (tPRES_SO>3000)]) \n",
    "    \n",
    "    #season\n",
    "    OBS_seas[0,i] = np.size(tDIC_SO[(tYEAR_SO == tyr) & (tMONTH_SO<=11) & (tMONTH_SO>8)]) #spring\n",
    "    OBS_seas[1,i] = np.size(tDIC_SO[(tYEAR_SO == tyr) & ((tMONTH_SO==12) | (tMONTH_SO<=2))])  #sumer\n",
    "    OBS_seas[2,i] = np.size(tDIC_SO[(tYEAR_SO == tyr) & (tMONTH_SO>2) & (tMONTH_SO<=5)]) #autum\n",
    "    OBS_seas[3,i] = np.size(tDIC_SO[(tYEAR_SO == tyr) & (tMONTH_SO>5) & (tMONTH_SO<=8)]) #winter\n",
    "    \n",
    "    #sectors\n",
    "#spring\n",
    "    OBS_sects[0,i] = np.size(tDIC_SO[(tYEAR_SO == tyr) & (tSECT_SO == 2)]) #atl\n",
    "    OBS_sects[1,i] = np.size(tDIC_SO[(tYEAR_SO == tyr) & (tSECT_SO == 3)])  #ind\n",
    "    OBS_sects[2,i] = np.size(tDIC_SO[(tYEAR_SO == tyr) & ((tSECT_SO == 4))]) #pac"
   ]
  },
  {
   "cell_type": "code",
   "execution_count": null,
   "metadata": {},
   "outputs": [],
   "source": [
    "fact = 0.55\n",
    "fig, axs = plt.subplots(3,1, figsize=(20*fact, 18*fact), facecolor='w', edgecolor='k')\n",
    "axs = axs.ravel()\n",
    "fs = 11\n",
    "width = 0.9\n",
    "axs[0].bar(yrs,OBS_depths[4,:],width, color = 'midnightblue', label = 'depth > 3000m')\n",
    "axs[0].bar(yrs,OBS_depths[3,:],width, bottom = OBS_depths[4,:], color = 'b', label = '1000m < depth <= 3000m')\n",
    "axs[0].bar(yrs,OBS_depths[2,:],width, bottom = OBS_depths[4,:]+ OBS_depths[3,:], color = 'cornflowerblue', label = '500m < depth <= 1000m')\n",
    "axs[0].bar(yrs,OBS_depths[1,:],width, bottom = OBS_depths[4,:]+ OBS_depths[3,:]+OBS_depths[2,:], color = 'lightskyblue', label = '200m < depth <= 500m')\n",
    "axs[0].bar(yrs,OBS_depths[0,:],width, bottom = OBS_depths[4,:]+ OBS_depths[3,:]+OBS_depths[2,:]+OBS_depths[1,:], color = 'cyan', label = 'depth <= 200m')\n",
    "axs[0].legend(ncol = 1, loc = 'best', fontsize = fs)\n",
    "\n",
    "axs[1].bar(yrs,OBS_seas[3,:],width,  color = 'magenta', label = 'winter')\n",
    "axs[1].bar(yrs,OBS_seas[2,:],width, bottom = OBS_seas[3,:], color = 'goldenrod', label = 'autumn')\n",
    "axs[1].bar(yrs,OBS_seas[1,:],width, bottom = OBS_seas[3,:]+OBS_seas[2,:], color = 'forestgreen', label = 'summer')\n",
    "axs[1].bar(yrs,OBS_seas[0,:],width, bottom = OBS_seas[3,:]+OBS_seas[2,:]+OBS_seas[1,:], color = 'springgreen', label = 'spring')\n",
    "axs[1].legend(ncol = 2, loc = 'best', fontsize = fs)\n",
    "\n",
    "axs[2].bar(yrs,OBS_sects[2,:],width,  color = 'b', label = 'pacific')\n",
    "axs[2].bar(yrs,OBS_sects[1,:],width, bottom = OBS_sects[2,:], color = 'gold', label = 'indian')\n",
    "axs[2].bar(yrs,OBS_sects[0,:],width, bottom = OBS_sects[2,:]+OBS_sects[1,:], color = 'r', label = 'atlantic')\n",
    "axs[2].legend(ncol = 1, loc = 'best', fontsize = fs)\n",
    "# ax.bar(x, diat_means, width, yerr=men_std, label='diat',color = 'r', alpha = 0.8)\n",
    "# ax.bar(x, flag_means, width, yerr=women_std, bottom=diat_means,\n",
    "#        label='flag', color = 'r', hatch='.', alpha = 0.6)\n",
    "\n",
    "for i in range(0,3):\n",
    "    axs[i].set_ylim([0,22000])\n",
    "    axs[i].grid()\n",
    "    axs[i].set_xlabel('years'); axs[i].set_ylabel('no. observations')\n",
    "\n",
    "plt.suptitle('Valid DIC and TA measurements in the Global Ocean\\n GLODAPv2.2021')\n",
    "plt.tight_layout()"
   ]
  },
  {
   "cell_type": "code",
   "execution_count": null,
   "metadata": {},
   "outputs": [],
   "source": []
  },
  {
   "attachments": {},
   "cell_type": "markdown",
   "metadata": {},
   "source": [
    "# Global map figure\n",
    "- df = pd.read_csv('/gpfs/home/gdg21vsa/mai_workspace/GLODAPv2.2021_GLOBE_valid_DICTA_umolL.csv')\n",
    "- df = df.sort_values(by = 'YR')\n",
    "- tDIC_SO = np.array(df['DIC'][:])\n",
    "- tALK_SO = np.array(df['ALK'][:])"
   ]
  },
  {
   "cell_type": "code",
   "execution_count": null,
   "metadata": {},
   "outputs": [],
   "source": []
  },
  {
   "cell_type": "code",
   "execution_count": null,
   "metadata": {},
   "outputs": [],
   "source": [
    "# fact = 1e6\n",
    "scal = 1.1\n",
    "fig, axs = plt.subplots(1,3, figsize=(20*scal, 5*scal), facecolor='w', edgecolor='k')\n",
    "axs = axs.ravel()\n",
    "tlab = 'mmol m$^{-3}$' # == umol/L\n",
    "tvar = 'DIC'\n",
    "# tdic = tw[tvar].values* fact        # in model mol/L -> umol/L\n",
    "# tDIC_SO[tDIC_SO == 0] = np.nan\n",
    "w = axs[0].pcolormesh(tDIC_SO[0,:], cmap = 'Spectral', vmin = 1800, vmax = 2500)\n",
    "plt.colorbar(w, label = tlab, ax = axs[0])\n",
    "axs[0].set_title(tvar)\n"
   ]
  },
  {
   "cell_type": "code",
   "execution_count": null,
   "metadata": {},
   "outputs": [],
   "source": [
    "\n",
    "tlab = 'mmol m$^{-3}$'\n",
    "tvar = 'Alkalini'\n",
    "tdic = tw[tvar].values* fact\n",
    "tdic[tdic == 0] = np.nan\n",
    "w = axs[1].pcolormesh(tdic[0,0,:,:], cmap = 'Spectral', vmin = 1800, vmax = 2500)\n",
    "plt.colorbar(w, label = tlab, ax = axs[1])\n",
    "axs[1].set_title(tvar)\n",
    "\n",
    "\n",
    "tlab = 'mmol m$^{-3}$'\n",
    "tvar = 'DIC'\n",
    "tdic = tw[tvar].values* fact\n",
    "tvar2 = 'Alkalini'\n",
    "tdic2 = tw[tvar2].values* fact\n",
    "tdic3 = tdic2 - tdic #Alkalinity- DIC\n",
    "\n",
    "tdic3[tdic3 == 0] = np.nan\n",
    "w = axs[2].pcolormesh(tdic3[0,0,:,:], cmap = 'Spectral', vmin = -0, vmax = 500)\n",
    "plt.colorbar(w, label = tlab, ax = axs[2])\n",
    "axs[2].set_title('Alkalini - DIC')"
   ]
  }
 ],
 "metadata": {
  "kernelspec": {
   "display_name": "Python 3 (ipykernel)",
   "language": "python",
   "name": "python3"
  },
  "language_info": {
   "codemirror_mode": {
    "name": "ipython",
    "version": 3
   },
   "file_extension": ".py",
   "mimetype": "text/x-python",
   "name": "python",
   "nbconvert_exporter": "python",
   "pygments_lexer": "ipython3",
   "version": "3.11.3"
  },
  "orig_nbformat": 4
 },
 "nbformat": 4,
 "nbformat_minor": 2
}
