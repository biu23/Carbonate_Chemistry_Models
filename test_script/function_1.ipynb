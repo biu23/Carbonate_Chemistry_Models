{
 "cells": [
  {
   "cell_type": "markdown",
   "metadata": {},
   "source": [
    "# Try to make function\n",
    "\n",
    "(1) comparation plots (y: 14 regions, x: DIC/TA/TA-DIC)\n",
    "- DIC\n",
    "- TA\n",
    "- TA-DIC\n",
    "\n",
    "(2) selected model evaluation metrics:\n",
    "- bias\n",
    "- RMSE\n",
    "- WSS\n",
    "\n",
    "NOTES: data save as .csv & plots\n"
   ]
  },
  {
   "cell_type": "code",
   "execution_count": null,
   "metadata": {},
   "outputs": [],
   "source": [
    "import numpy as np\n",
    "from cmocean import cm\n",
    "import cartopy as cp\n",
    "import cartopy.crs as ccrs\n",
    "import netCDF4 as nc\n",
    "import matplotlib.pyplot as plt\n",
    "import xarray as xr\n",
    "import sys\n",
    "sys.path.append('/gpfs/home/mep22dku/scratch/SOZONE')\n",
    "#list of models\n",
    "sys.path.append('/gpfs/home/mep22dku/scratch/SOZONE/UTILS')\n",
    "import lom\n",
    "import utils as ut\n",
    "\n",
    "%matplotlib inline\n",
    "import warnings\n",
    "from datetime import datetime\n",
    "warnings.filterwarnings('ignore')\n",
    "import cartopy.feature as cfeature\n",
    "from importlib import reload\n",
    "import matplotlib.path as mpath\n",
    "import glob\n",
    "import pickle\n",
    "import pandas as pd\n",
    "import seawater\n",
    "import time\n",
    "plt.rcParams.update({'font.size': 12})\n",
    "font = {'family' : 'monospace',\n",
    "'weight' : 'normal',\n",
    "'size'   : 12}\n",
    "\n",
    "plt.rc('font', **font)"
   ]
  },
  {
   "cell_type": "code",
   "execution_count": null,
   "metadata": {},
   "outputs": [],
   "source": [
    "regs = ['ARCTIC', 'P1', 'P2', 'P3', 'P4', 'P5', 'A1', 'A2', 'A3', 'A4', 'A5', 'I3', 'I4', 'I5']\n",
    "\n",
    "regdict = {'ARCTIC' : {'number' : 0.5},\n",
    "           'P1' : {'number': 1.0},\n",
    "          'P2' : {'number': 1.2},\n",
    "           'P3' : {'number': 1.4},\n",
    "           'P4' : {'number': 1.6},\n",
    "           'P5' : {'number': 1.8},\n",
    "            'A1' : {'number': 2.4},\n",
    "          'A2' : {'number': 2.6},\n",
    "           'A3' : {'number': 2.8},\n",
    "           'A4' : {'number': 3},\n",
    "           'A5' : {'number': 3.2},\n",
    "           'I3' : {'number': 3.6},\n",
    "           'I4' : {'number': 3.8},\n",
    "           'I5' : {'number': 4},\n",
    "           \n",
    "          }\n",
    "    \n",
    "tics = []\n",
    "tcm = 'Spectral'\n",
    "tmask = nc.Dataset('/gpfs/data/greenocean/software/resources/breakdown/clq_basin_masks_ORCA.nc')\n",
    "\n",
    "maskno = np.zeros([149,182])\n",
    "for i in range(0, len(regs)):\n",
    "    maskno[tmask[regs[i]][:] == 1] = regdict[regs[i]]['number']\n",
    "    tics.append(regdict[regs[i]]['number'])\n",
    "maskno[maskno == 0] = np.nan\n",
    "\n",
    "\n",
    "w = plt.pcolor(maskno, cmap = tcm, vmin = 0.5, vmax = 4)\n",
    "cbar = plt.colorbar(w, ticks=tics)\n",
    "t = cbar.ax.set_yticklabels(['ARCTIC', 'P1', 'P2', 'P3', 'P4', 'P5', 'A1', 'A2', 'A3', 'A4', 'A5', 'I3', 'I4', 'I5'], fontsize = 9)\n",
    "plt.suptitle('ocean regions, subdivided')\n",
    "\n",
    "fact = 0.2\n",
    "fig = plt.figure(figsize=(30*fact,15*fact))\n",
    "import matplotlib\n",
    "cmap = matplotlib.cm.get_cmap('Spectral')\n",
    "norm = matplotlib.colors.Normalize(vmin=0.5, vmax=4)\n",
    "for i in range(0,len(regs)):\n",
    "    rgba = cmap(norm(regdict[regs[i]]['number']))\n",
    "    plt.plot(regdict[regs[i]]['number'], 1, marker = 'o', color = rgba, label = regs[i])\n",
    "    regdict[regs[i]]['colour'] = rgba\n",
    "plt.legend(ncol = 5, fontsize = 10)\n",
    "plt.suptitle('colours assigned')"
   ]
  },
  {
   "cell_type": "code",
   "execution_count": null,
   "metadata": {},
   "outputs": [],
   "source": [
    "mean_masks = np.zeros([len(regs), 149, 182])\n",
    "for i, reg in enumerate(regs):\n",
    "    mean_masks[i][maskno == regdict[reg]['number']] = 1"
   ]
  },
  {
   "cell_type": "markdown",
   "metadata": {},
   "source": [
    "(0) loading data"
   ]
  },
  {
   "cell_type": "code",
   "execution_count": null,
   "metadata": {},
   "outputs": [],
   "source": [
    "yrst = 1990\n",
    "yrend = 2020\n",
    "modlist = ['TOM12_TJ_GEA0']"
   ]
  },
  {
   "cell_type": "markdown",
   "metadata": {},
   "source": [
    "- GLOBAL DATA: tdat_OBS"
   ]
  },
  {
   "cell_type": "code",
   "execution_count": null,
   "metadata": {},
   "outputs": [],
   "source": [
    "df = pd.read_csv('/gpfs/home/mep22dku/scratch/SOZONE/evalOutput/datasets/GLODAPv2.2022_GLOBAL_valid_DICTA_umolL_STITCHED.csv')\n",
    "\n",
    "df = df[(df.YR >= yrst) & (df.YR <= yrend)]\n",
    "df = df[df.PRES <= 10]  #surface\n",
    "\n",
    "df"
   ]
  },
  {
   "cell_type": "code",
   "execution_count": null,
   "metadata": {},
   "outputs": [],
   "source": [
    "\n",
    "tDIC = np.array(df['DIC'][:])\n",
    "tALK = np.array(df['ALK'][:])\n",
    "\n",
    "tYEAR = np.array(df['YR'])\n",
    "tMONTH = np.array(df['MONTH'])\n",
    "tY = np.array(df['Y'])\n",
    "tX = np.array(df['X'])\n",
    "\n",
    "tREG_new = np.array(tX)\n",
    "\n",
    "\n",
    "for j in range(len(tY)):\n",
    "    y = tY[j].astype(int)\n",
    "    x = tX[j].astype(int)\n",
    "    tREG_new[j] = maskno[y, x]\n",
    "\n",
    "print(tREG_new)\n",
    "# len(tREG_new)"
   ]
  },
  {
   "cell_type": "code",
   "execution_count": null,
   "metadata": {},
   "outputs": [],
   "source": [
    "# for model match\n",
    "t0 = np.zeros_like(tDIC)\n",
    "\n",
    "td = {}\n",
    "td = {'YEAR': tYEAR,'MONTH': tMONTH, 'y': tY, 'x': tX ,'obs_DIC':  tDIC, 'obs_TA':tALK, 'REG': tREG_new, \n",
    "      'REG_Group': tREG_new}\n",
    "tdat_OBS = pd.DataFrame(data=td)\n",
    "\n",
    "tdat_OBS = tdat_OBS[(tdat_OBS.obs_DIC>-999) & (tdat_OBS.obs_TA>-999) \n",
    "                    & (tdat_OBS.obs_DIC != 0) & (tdat_OBS.obs_TA != 0)]\n",
    "tdat_OBS"
   ]
  },
  {
   "cell_type": "markdown",
   "metadata": {},
   "source": [
    "- MODEL DATA: tdat_MOD_DIC, tdat_MOD_TA"
   ]
  },
  {
   "cell_type": "code",
   "execution_count": null,
   "metadata": {},
   "outputs": [],
   "source": [
    "import glob\n",
    "\n",
    "def make_yearlist(yrst, yrend, dtype, tr, baseDir):\n",
    "    yrs = np.arange(yrst,yrend+1,1)\n",
    "    ylist = []\n",
    "    for i in range(0,len(yrs)):\n",
    "        ty = f'{baseDir}/{tr}/ORCA2_1m_{yrs[i]}*{dtype}*.nc'\n",
    "        t2 = glob.glob(ty)\n",
    "        #print(t2)\n",
    "        ylist.append(t2[0])\n",
    "    return ylist\n",
    "\n",
    "baseDir = '/gpfs/data/greenocean/software/runs/'\n",
    "depth = 0\n",
    "dtype = 'ptrc'\n",
    "modlist = ['TOM12_TJ_GEA0']\n",
    "\n",
    "modnam = modlist[0]\n",
    "tylist = make_yearlist(yrst, yrend, dtype, modnam, baseDir)\n",
    "tdat_MOD = xr.open_mfdataset(tylist)\n",
    "\n",
    "tdat_MOD_0 = tdat_MOD.isel(deptht= depth)\n",
    "tdat_MOD_0"
   ]
  },
  {
   "cell_type": "code",
   "execution_count": null,
   "metadata": {},
   "outputs": [],
   "source": [
    "# save DIC as Dataframe\n",
    "tdat_MOD_DIC = tdat_MOD_0['DIC'].to_dataframe(dim_order=None)\n",
    "tdat_MOD_DIC = tdat_MOD_DIC.loc[:, ['DIC']]     #only keep DIC and multiple index\n",
    "tdat_MOD_DIC = tdat_MOD_DIC[(tdat_MOD_DIC[['DIC']] != 0).all(axis=1)]\n",
    "tdat_MOD_DIC = tdat_MOD_DIC.dropna()\n",
    "\n",
    "tdat_MOD_DIC = tdat_MOD_DIC.reset_index()\n",
    "\n",
    "tdat_MOD_DIC['YEAR'] = tdat_MOD_DIC['time_counter'].apply(lambda x: x.year)\n",
    "tdat_MOD_DIC['MONTH'] = tdat_MOD_DIC['time_counter'].apply(lambda x: x.month)\n",
    "\n",
    "tdat_MOD_DIC\n"
   ]
  },
  {
   "cell_type": "code",
   "execution_count": null,
   "metadata": {},
   "outputs": [],
   "source": [
    "# save TA as Dataframe\n",
    "tdat_MOD_TA = tdat_MOD_0['Alkalini'].to_dataframe(dim_order=None)\n",
    "tdat_MOD_TA = tdat_MOD_TA.loc[:, ['Alkalini']]     #only keep TA and multiple index\n",
    "tdat_MOD_TA = tdat_MOD_TA[(tdat_MOD_TA[['Alkalini']] != 0).all(axis=1)]\n",
    "tdat_MOD_TA = tdat_MOD_TA.dropna()\n",
    "\n",
    "tdat_MOD_TA = tdat_MOD_TA.reset_index()\n",
    "\n",
    "tdat_MOD_TA['YEAR'] = tdat_MOD_TA['time_counter'].apply(lambda x: x.year)\n",
    "tdat_MOD_TA['MONTH'] = tdat_MOD_TA['time_counter'].apply(lambda x: x.month)\n",
    "\n",
    "tdat_MOD_TA"
   ]
  },
  {
   "cell_type": "markdown",
   "metadata": {},
   "source": [
    "MATCH DATA: tdat_merge_molDIC, tdat_merge_molTA"
   ]
  },
  {
   "cell_type": "code",
   "execution_count": null,
   "metadata": {},
   "outputs": [],
   "source": [
    "tdat_merge_modDIC = pd.merge(tdat_MOD_DIC, tdat_OBS, on=['YEAR', 'MONTH', 'y', 'x'])\n",
    "tdat_merge_modDIC = tdat_merge_modDIC.loc[:, ['DIC','obs_DIC', 'REG','REG_Group']]\n",
    "tdat_merge_modDIC"
   ]
  },
  {
   "cell_type": "code",
   "execution_count": null,
   "metadata": {},
   "outputs": [],
   "source": [
    "tdat_merge_modTA = pd.merge(tdat_MOD_TA, tdat_OBS, on=['YEAR', 'MONTH', 'y', 'x'])\n",
    "tdat_merge_modTA = tdat_merge_modTA.loc[:, ['Alkalini','obs_TA','REG','REG_Group']]\n",
    "tdat_merge_modTA"
   ]
  },
  {
   "cell_type": "markdown",
   "metadata": {},
   "source": [
    "MEAN DATA: tdat_fil_mean, tdat_merge_modDIC_mean, tdat_merge_modTA_mean"
   ]
  },
  {
   "cell_type": "code",
   "execution_count": null,
   "metadata": {},
   "outputs": [],
   "source": [
    "# GLODAP data\n",
    "td = {}\n",
    "td = {'DIC':  tDIC, 'TA':tALK, 'REG': tREG_new, 'REG_Group': tREG_new,}\n",
    "tdat = pd.DataFrame(data=td)\n",
    "\n",
    "tdat_fil = tdat[(tdat.DIC>-999) & (tdat.TA>-999) & (tdat.DIC != 0) & (tdat.TA != 0)]\n",
    "\n",
    "tdat_fil_mean = tdat_fil.groupby(by=[\"REG_Group\"]).mean()\n",
    "tdat_fil_mean"
   ]
  },
  {
   "cell_type": "code",
   "execution_count": null,
   "metadata": {},
   "outputs": [],
   "source": [
    "# model DIC\n",
    "tdat_merge_modDIC_mean = tdat_merge_modDIC.groupby(by=[\"REG_Group\"]).mean()\n",
    "tdat_merge_modDIC_mean"
   ]
  },
  {
   "cell_type": "code",
   "execution_count": null,
   "metadata": {},
   "outputs": [],
   "source": [
    "# model TA\n",
    "tdat_merge_modTA_mean = tdat_merge_modTA.groupby(by=[\"REG_Group\"]).mean()\n",
    "tdat_merge_modTA_mean"
   ]
  },
  {
   "cell_type": "markdown",
   "metadata": {},
   "source": [
    "(1) comparation plots"
   ]
  },
  {
   "cell_type": "code",
   "execution_count": null,
   "metadata": {},
   "outputs": [],
   "source": [
    "# marker = ['o','o','o','o','o']\n",
    "color = ['r','m','c','y','g']\n",
    "s = 70"
   ]
  },
  {
   "cell_type": "code",
   "execution_count": null,
   "metadata": {},
   "outputs": [],
   "source": [
    "fig = plt.figure(figsize=(8,5))\n",
    "ax = plt.subplot(111)\n",
    "\n",
    "# #GLODAP\n",
    "# plt.scatter(tdat_fil_mean['DIC'],tdat_fil_mean['REG'] ,marker = 'o', s=s,label = 'GLODAP',color='k', zorder=4)\n",
    "\n",
    "#GLODAP --> after match\n",
    "plt.scatter(tdat_merge_modDIC_mean['obs_DIC'],tdat_merge_modDIC_mean['REG'] ,\n",
    "            marker = 'o', s=s,label = 'GLODAP',color='k', zorder=4)\n",
    "\n",
    "# match model data\n",
    "plt.scatter(tdat_merge_modDIC_mean['DIC']* 1e6,tdat_merge_modDIC_mean['REG'],\n",
    "            marker = '+', s=s,label = f'{modlist} match DIC',color='r', zorder=5)\n",
    "\n",
    "#background region line\n",
    "xmin = 1700\n",
    "xmax = 2400\n",
    "y = (0.5, 1.0, 1.2, 1.4, 1.6, 1.8, 2.4, 2.6, 2.8, 3, 3.2, 3.6, 3.8, 4)\n",
    "labels = ['ARCTIC', 'P1', 'P2', 'P3', 'P4', 'P5', 'A1', 'A2', 'A3', 'A4', 'A5', 'I3', 'I4', 'I5']\n",
    "\n",
    "for i in range(0,len(regs)):\n",
    "    rgba = cmap(norm(regdict[regs[i]]['number']))\n",
    "    plt.hlines(y=regdict[regs[i]]['number'], \n",
    "               xmin=xmin, \n",
    "               xmax=xmax, \n",
    "                colors = rgba, linestyles='--', lw=1, zorder=-4)\n",
    "\n",
    "    # plt.plot(xmin,regdict[regs[i]]['number'], \n",
    "    #          color = rgba, label = regs[i],zorder=-3)        # line legend\n",
    "    regdict[regs[i]]['colour'] = rgba\n",
    "\n",
    "\n",
    "# y label\n",
    "plt.yticks(y, labels) #rotation='vertical')\n",
    "\n",
    "\n",
    "# legend position\n",
    "box = ax.get_position()\n",
    "ax.set_position([box.x0, box.y0 + box.height * 0.1,\n",
    "                 box.width, box.height * 0.9])\n",
    "ax.legend(loc='upper center', bbox_to_anchor=(0.5, -0.15),\n",
    "          fancybox=True, shadow=True, ncol=3) # Put a legend below current axis\n",
    "\n",
    "# ax.set_facecolor(\"black\")\n",
    "\n",
    "# plt.title(f'{yrst}-{yrend} Surface TA vs. DIC, TOM12_TJ_GEA0')\n",
    "plt.xlabel('DIC, umol/L')\n",
    "plt.ylabel('Region')\n",
    "plt.title(f'{yrst}-{yrend} Surface DIC')\n"
   ]
  },
  {
   "cell_type": "code",
   "execution_count": null,
   "metadata": {},
   "outputs": [],
   "source": [
    "fig = plt.figure(figsize=(8,5))\n",
    "ax = plt.subplot(111)\n",
    "\n",
    "\n",
    "# # GLODAP\n",
    "# plt.scatter(tdat_fil_mean['TA'],tdat_fil_mean['REG'] ,marker = 'o', s=s,label = 'GLODAP',color='k', zorder=4)\n",
    "\n",
    "#GLODAP --> match\n",
    "plt.scatter(tdat_merge_modTA_mean['obs_TA'],tdat_merge_modTA_mean['REG'] ,\n",
    "            marker = 'o', s=s,label = 'GLODAP',color='k', zorder=4)\n",
    "\n",
    "# match\n",
    "plt.scatter(tdat_merge_modTA_mean['Alkalini']* 1e6,tdat_merge_modTA_mean['REG'] ,\n",
    "            marker = '+', s=s,label = f'{modlist} match TA',color='r', zorder=5)\n",
    "\n",
    "#background region line\n",
    "xmin = 1800\n",
    "xmax = 2600\n",
    "for i in range(0,len(regs)):\n",
    "    rgba = cmap(norm(regdict[regs[i]]['number']))\n",
    "    plt.hlines(y=regdict[regs[i]]['number'], \n",
    "               xmin=xmin, \n",
    "               xmax=xmax, \n",
    "                colors = rgba, linestyles='--', lw=1, zorder=-5)\n",
    "    # plt.plot(xmin,regdict[regs[i]]['number'], \n",
    "    #          color = rgba, label = regs[i],zorder=-4)        # for legend\n",
    "    regdict[regs[i]]['colour'] = rgba\n",
    "\n",
    "# y label\n",
    "plt.yticks(y, labels) #rotation='vertical')\n",
    "\n",
    "# legend position\n",
    "box = ax.get_position()\n",
    "ax.set_position([box.x0, box.y0 + box.height * 0.1,\n",
    "                 box.width, box.height * 0.9])\n",
    "ax.legend(loc='upper center', bbox_to_anchor=(0.5, -0.15),\n",
    "          fancybox=True, shadow=True, ncol=3) # Put a legend below current axis\n",
    "\n",
    "\n",
    "plt.xlabel('TA, umol/L')\n",
    "plt.ylabel('Region')\n",
    "plt.title(f'{yrst}-{yrend} Surface TA')\n"
   ]
  },
  {
   "cell_type": "code",
   "execution_count": null,
   "metadata": {},
   "outputs": [],
   "source": [
    "fig = plt.figure(figsize=(8,5))\n",
    "ax = plt.subplot(111)\n",
    "\n",
    "\n",
    "# #GLODAP\n",
    "# plt.scatter(tdat_fil_mean['TA'] - tdat_fil_mean['DIC'],\n",
    "#             tdat_fil_mean['REG'] ,marker = 'o',s=s, label = 'GLODAP',color='k', zorder=4)\n",
    "\n",
    "# GLODAP --> match\n",
    "plt.scatter(tdat_merge_modTA_mean['obs_TA']-tdat_merge_modDIC_mean['obs_DIC'],\n",
    "            tdat_merge_modTA_mean['REG'] ,marker = 'o',s=s, label = 'GLODAP',color='k', zorder=4)\n",
    "\n",
    "\n",
    "# match\n",
    "plt.scatter((tdat_merge_modTA_mean['Alkalini']-tdat_merge_modDIC_mean['DIC'])* 1e6,\n",
    "            tdat_merge_modTA_mean['REG'] ,marker = '+', s=s,label = f'{modlist} match TA-DIC',color='r', zorder=5)\n",
    "\n",
    "#background region line\n",
    "xmin = 0\n",
    "xmax = 450\n",
    "for i in range(0,len(regs)):\n",
    "    rgba = cmap(norm(regdict[regs[i]]['number']))\n",
    "    plt.hlines(y=regdict[regs[i]]['number'], \n",
    "               xmin=xmin, \n",
    "               xmax=xmax, \n",
    "                colors = rgba, linestyles='--', lw=1, zorder=-5)\n",
    "    # plt.plot(xmin,regdict[regs[i]]['number'], \n",
    "    #          color = rgba, label = regs[i],zorder=-4)        # for legend\n",
    "    regdict[regs[i]]['colour'] = rgba\n",
    "\n",
    "# y label\n",
    "plt.yticks(y, labels) #rotation='vertical')\n",
    "\n",
    "# legend position\n",
    "box = ax.get_position()\n",
    "ax.set_position([box.x0, box.y0 + box.height * 0.1,\n",
    "                 box.width, box.height * 0.9])\n",
    "ax.legend(loc='upper center', bbox_to_anchor=(0.5, -0.15),\n",
    "          fancybox=True, shadow=True, ncol=3) # Put a legend below current axis\n",
    "\n",
    "\n",
    "plt.xlabel('TA-DIC, umol/L')\n",
    "plt.ylabel('Region')\n",
    "plt.title(f'{yrst}-{yrend} Surface TA-DIC')\n"
   ]
  },
  {
   "cell_type": "markdown",
   "metadata": {},
   "source": [
    "(2) selected model evaluation metrics"
   ]
  },
  {
   "cell_type": "code",
   "execution_count": null,
   "metadata": {},
   "outputs": [],
   "source": [
    "def bias_box(obs,mod):\n",
    "    bias = (-np.mean(obs) + np.mean(mod))\n",
    "    return bias\n",
    "\n",
    "def RMSE_box(obs,mod):\n",
    "    RMSE = (np.sqrt(np.sum((mod - obs)**2) /len(obs)))\n",
    "    return RMSE\n",
    "\n",
    "def WSS_box(obs,mod):\n",
    "    xbar = np.mean(obs)\n",
    "    WSS = (1-(np.sum((mod - obs)**2)  / np.sum((np.abs(mod - xbar) + np.abs(obs - xbar))**2)))\n",
    "    return WSS"
   ]
  },
  {
   "cell_type": "code",
   "execution_count": 86,
   "metadata": {},
   "outputs": [],
   "source": [
    "# merge data\n",
    "m_obs_DIC = np.array(tdat_merge_modDIC['obs_DIC'][:])\n",
    "m_mod_DIC = np.array(tdat_merge_modDIC['DIC'][:])\n",
    "\n",
    "m_obs_TA = np.array(tdat_merge_modTA['obs_TA'][:])\n",
    "m_mod_TA = np.array(tdat_merge_modTA['Alkalini'][:])"
   ]
  },
  {
   "cell_type": "code",
   "execution_count": 94,
   "metadata": {},
   "outputs": [],
   "source": [
    "\n",
    "mask = ~np.isnan(m_mod_DIC) & ~np.isnan(m_mod_TA)\n",
    "bias_DIC = bias_box(m_obs_DIC[mask], m_mod_DIC[mask]*1e6)\n",
    "RMSE_DIC = RMSE_box(m_obs_DIC[mask], m_mod_DIC[mask]*1e6)\n",
    "WSS_DIC = WSS_box(m_obs_DIC[mask], m_mod_DIC[mask]*1e6)\n",
    "\n",
    "bias_TA = bias_box(m_obs_TA[mask],m_mod_TA[mask]*1e6)\n",
    "RMSE_TA = RMSE_box(m_obs_TA[mask],m_mod_TA[mask]*1e6)\n",
    "WSS_TA = WSS_box(m_obs_TA[mask],m_mod_TA[mask]*1e6)\n"
   ]
  },
  {
   "cell_type": "code",
   "execution_count": 95,
   "metadata": {},
   "outputs": [
    {
     "name": "stdout",
     "output_type": "stream",
     "text": [
      "56.22285028942542\n",
      "121.53536782273477\n",
      "0.7299704145029595\n"
     ]
    }
   ],
   "source": [
    "print(bias_TA)\n",
    "print(RMSE_TA)\n",
    "print(WSS_TA)"
   ]
  }
 ],
 "metadata": {
  "kernelspec": {
   "display_name": "Python 3 (ipykernel)",
   "language": "python",
   "name": "python3"
  },
  "language_info": {
   "codemirror_mode": {
    "name": "ipython",
    "version": 3
   },
   "file_extension": ".py",
   "mimetype": "text/x-python",
   "name": "python",
   "nbconvert_exporter": "python",
   "pygments_lexer": "ipython3",
   "version": "3.11.3"
  },
  "orig_nbformat": 4
 },
 "nbformat": 4,
 "nbformat_minor": 2
}
