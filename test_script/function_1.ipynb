{
 "cells": [
  {
   "cell_type": "markdown",
   "metadata": {},
   "source": [
    "# Try to make function\n",
    "(1) selected model evaluation metrics:\n",
    "- bias\n",
    "- RMSE\n",
    "- WSS\n",
    "\n",
    "NOTES: data save as .csv & plots\n",
    "\n",
    "(2) comparation plots (14 regions)\n",
    "- DIC\n",
    "- TA\n",
    "- TA-DIC"
   ]
  },
  {
   "cell_type": "code",
   "execution_count": null,
   "metadata": {},
   "outputs": [],
   "source": [
    "import numpy as np\n",
    "from cmocean import cm\n",
    "import cartopy as cp\n",
    "import cartopy.crs as ccrs\n",
    "import netCDF4 as nc\n",
    "import matplotlib.pyplot as plt\n",
    "import xarray as xr\n",
    "import sys\n",
    "sys.path.append('/gpfs/home/mep22dku/scratch/SOZONE')\n",
    "#list of models\n",
    "sys.path.append('/gpfs/home/mep22dku/scratch/SOZONE/UTILS')\n",
    "import lom\n",
    "import utils as ut\n",
    "\n",
    "%matplotlib inline\n",
    "import warnings\n",
    "from datetime import datetime\n",
    "warnings.filterwarnings('ignore')\n",
    "import cartopy.feature as cfeature\n",
    "from importlib import reload\n",
    "import matplotlib.path as mpath\n",
    "import glob\n",
    "import pickle\n",
    "import pandas as pd\n",
    "import seawater\n",
    "import time\n",
    "plt.rcParams.update({'font.size': 12})\n",
    "font = {'family' : 'monospace',\n",
    "'weight' : 'normal',\n",
    "'size'   : 12}\n",
    "\n",
    "plt.rc('font', **font)"
   ]
  },
  {
   "cell_type": "markdown",
   "metadata": {},
   "source": [
    "(1) selected model evaluation metrics"
   ]
  },
  {
   "cell_type": "code",
   "execution_count": null,
   "metadata": {},
   "outputs": [],
   "source": [
    "def bias_box(obs,mod):\n",
    "    bias = (-np.mean(obs) + np.mean(mod))\n",
    "    return bias\n",
    "\n",
    "def RMSE_box(obs,mod):\n",
    "    RMSE = (np.sqrt(np.sum((mod - obs)**2) /len(obs)))\n",
    "    return RMSE\n",
    "\n",
    "def WSS_box(obs,mod):\n",
    "    xbar = np.mean(obs)\n",
    "    WSS = (1-(np.sum((mod - obs)**2)  / np.sum((np.abs(mod - xbar) + np.abs(obs - xbar))**2)))\n",
    "    return WSS"
   ]
  },
  {
   "cell_type": "code",
   "execution_count": null,
   "metadata": {},
   "outputs": [],
   "source": [
    "mask = ~np.isnan(mod_DIC_M001) & ~np.isnan(mod_ALK_M001)\n",
    "bias_M001_DIC = bias_box(tDIC_SO[mask],mod_DIC_M001[mask])\n",
    "RMSE_M001_DIC = RMSE_box(tDIC_SO[mask],mod_DIC_M001[mask])\n",
    "WSS_M001_DIC = WSS_box(tDIC_SO[mask],mod_DIC_M001[mask])\n",
    "bias_T001_DIC = bias_box(tDIC_SO[mask],mod_DIC_T001[mask])\n",
    "RMSE_T001_DIC = RMSE_box(tDIC_SO[mask],mod_DIC_T001[mask])\n",
    "WSS_T001_DIC = WSS_box(tDIC_SO[mask],mod_DIC_T001[mask])\n",
    "\n",
    "bias_M001_ALK = bias_box(tALK_SO[mask],mod_ALK_M001[mask])\n",
    "RMSE_M001_ALK = RMSE_box(tALK_SO[mask],mod_ALK_M001[mask])\n",
    "WSS_M001_ALK = WSS_box(tALK_SO[mask],mod_ALK_M001[mask])\n",
    "bias_T001_ALK = bias_box(tALK_SO[mask],mod_ALK_T001[mask])\n",
    "RMSE_T001_ALK = RMSE_box(tALK_SO[mask],mod_ALK_T001[mask])\n",
    "WSS_T001_ALK = WSS_box(tALK_SO[mask],mod_ALK_T001[mask])"
   ]
  }
 ],
 "metadata": {
  "language_info": {
   "name": "python"
  },
  "orig_nbformat": 4
 },
 "nbformat": 4,
 "nbformat_minor": 2
}
